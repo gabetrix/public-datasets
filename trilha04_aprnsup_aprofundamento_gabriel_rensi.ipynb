{
  "nbformat": 4,
  "nbformat_minor": 0,
  "metadata": {
    "colab": {
      "provenance": [],
      "authorship_tag": "ABX9TyMSsu8y+XtajKwivdo8OiVI",
      "include_colab_link": true
    },
    "kernelspec": {
      "name": "python3",
      "display_name": "Python 3"
    },
    "language_info": {
      "name": "python"
    }
  },
  "cells": [
    {
      "cell_type": "markdown",
      "metadata": {
        "id": "view-in-github",
        "colab_type": "text"
      },
      "source": [
        "<a href=\"https://colab.research.google.com/github/gabetrix/public-datasets/blob/main/trilha04_aprnsup_aprofundamento_gabriel_rensi.ipynb\" target=\"_parent\"><img src=\"https://colab.research.google.com/assets/colab-badge.svg\" alt=\"Open In Colab\"/></a>"
      ]
    },
    {
      "cell_type": "code",
      "execution_count": 120,
      "metadata": {
        "id": "wazSb1JhBj6Y"
      },
      "outputs": [],
      "source": [
        "import numpy as np\n",
        "import pandas as pd\n",
        "import matplotlib.pyplot as plt\n",
        "import seaborn as sns\n",
        "from sklearn.model_selection import train_test_split\n",
        "from sklearn.decomposition import PCA, KernelPCA"
      ]
    },
    {
      "cell_type": "code",
      "source": [
        "pip install odfpy"
      ],
      "metadata": {
        "colab": {
          "base_uri": "https://localhost:8080/",
          "height": 0
        },
        "id": "CKkRUV3aCXfv",
        "outputId": "11c35661-8202-47a0-ad46-ca78326a0143"
      },
      "execution_count": 94,
      "outputs": [
        {
          "output_type": "stream",
          "name": "stdout",
          "text": [
            "Requirement already satisfied: odfpy in /usr/local/lib/python3.10/dist-packages (1.4.1)\n",
            "Requirement already satisfied: defusedxml in /usr/local/lib/python3.10/dist-packages (from odfpy) (0.7.1)\n"
          ]
        }
      ]
    },
    {
      "cell_type": "code",
      "source": [
        "dataset = pd.read_excel('./aprnaosup_trilha_4.ods', engine='odf')\n",
        "dataset.head()"
      ],
      "metadata": {
        "colab": {
          "base_uri": "https://localhost:8080/",
          "height": 293
        },
        "id": "khNtSKPyDJp4",
        "outputId": "850bee07-7368-4fe2-b8f2-7b39951a0302"
      },
      "execution_count": 95,
      "outputs": [
        {
          "output_type": "execute_result",
          "data": {
            "text/plain": [
              "     GRANDE_REG  COD_UF SIGLA_UF   COD  \\\n",
              "0  Centro-Oeste      53       DF  5301   \n",
              "1  Centro-Oeste      52       GO  5202   \n",
              "2  Centro-Oeste      52       GO  5202   \n",
              "3  Centro-Oeste      52       GO  5202   \n",
              "4  Centro-Oeste      52       GO  5202   \n",
              "\n",
              "                                                NOME  TIPO COD_CAT_ASSOC  \\\n",
              "0  Região Integrada de Desenvolvimento do Distrit...  RIDE        530101   \n",
              "1  Região Integrada de Desenvolvimento do Distrit...  RIDE        520201   \n",
              "2  Região Integrada de Desenvolvimento do Distrit...  RIDE        520201   \n",
              "3  Região Integrada de Desenvolvimento do Distrit...  RIDE        520201   \n",
              "4  Região Integrada de Desenvolvimento do Distrit...  RIDE        520201   \n",
              "\n",
              "  CAT_ASSOC  COD_MUN               NOME_MUN  \\\n",
              "0   NÃO TEM  5300108               BRASÍLIA   \n",
              "1   NÃO TEM  5200100              ABADIÂNIA   \n",
              "2   NÃO TEM  5200175     ÁGUA FRIA DE GOIÁS   \n",
              "3   NÃO TEM  5200258  ÁGUAS LINDAS DE GOIÁS   \n",
              "4   NÃO TEM  5200308               ALEXÂNIA   \n",
              "\n",
              "                                                 LEG       DATA  \n",
              "0  DECRETO Nº 7469 - 04.05.2011 Regulamenta a Lei... 1998-02-19  \n",
              "1  DECRETO Nº 7469 - 04.05.2011 Regulamenta a Lei... 1998-02-19  \n",
              "2  DECRETO Nº 7469 - 04.05.2011 Regulamenta a Lei... 1998-02-19  \n",
              "3  DECRETO Nº 7469 - 04.05.2011 Regulamenta a Lei... 1998-02-19  \n",
              "4  DECRETO Nº 7469 - 04.05.2011 Regulamenta a Lei... 1998-02-19  "
            ],
            "text/html": [
              "\n",
              "  <div id=\"df-93cbe13c-c830-45b3-84b2-7a94294cf0b0\" class=\"colab-df-container\">\n",
              "    <div>\n",
              "<style scoped>\n",
              "    .dataframe tbody tr th:only-of-type {\n",
              "        vertical-align: middle;\n",
              "    }\n",
              "\n",
              "    .dataframe tbody tr th {\n",
              "        vertical-align: top;\n",
              "    }\n",
              "\n",
              "    .dataframe thead th {\n",
              "        text-align: right;\n",
              "    }\n",
              "</style>\n",
              "<table border=\"1\" class=\"dataframe\">\n",
              "  <thead>\n",
              "    <tr style=\"text-align: right;\">\n",
              "      <th></th>\n",
              "      <th>GRANDE_REG</th>\n",
              "      <th>COD_UF</th>\n",
              "      <th>SIGLA_UF</th>\n",
              "      <th>COD</th>\n",
              "      <th>NOME</th>\n",
              "      <th>TIPO</th>\n",
              "      <th>COD_CAT_ASSOC</th>\n",
              "      <th>CAT_ASSOC</th>\n",
              "      <th>COD_MUN</th>\n",
              "      <th>NOME_MUN</th>\n",
              "      <th>LEG</th>\n",
              "      <th>DATA</th>\n",
              "    </tr>\n",
              "  </thead>\n",
              "  <tbody>\n",
              "    <tr>\n",
              "      <th>0</th>\n",
              "      <td>Centro-Oeste</td>\n",
              "      <td>53</td>\n",
              "      <td>DF</td>\n",
              "      <td>5301</td>\n",
              "      <td>Região Integrada de Desenvolvimento do Distrit...</td>\n",
              "      <td>RIDE</td>\n",
              "      <td>530101</td>\n",
              "      <td>NÃO TEM</td>\n",
              "      <td>5300108</td>\n",
              "      <td>BRASÍLIA</td>\n",
              "      <td>DECRETO Nº 7469 - 04.05.2011 Regulamenta a Lei...</td>\n",
              "      <td>1998-02-19</td>\n",
              "    </tr>\n",
              "    <tr>\n",
              "      <th>1</th>\n",
              "      <td>Centro-Oeste</td>\n",
              "      <td>52</td>\n",
              "      <td>GO</td>\n",
              "      <td>5202</td>\n",
              "      <td>Região Integrada de Desenvolvimento do Distrit...</td>\n",
              "      <td>RIDE</td>\n",
              "      <td>520201</td>\n",
              "      <td>NÃO TEM</td>\n",
              "      <td>5200100</td>\n",
              "      <td>ABADIÂNIA</td>\n",
              "      <td>DECRETO Nº 7469 - 04.05.2011 Regulamenta a Lei...</td>\n",
              "      <td>1998-02-19</td>\n",
              "    </tr>\n",
              "    <tr>\n",
              "      <th>2</th>\n",
              "      <td>Centro-Oeste</td>\n",
              "      <td>52</td>\n",
              "      <td>GO</td>\n",
              "      <td>5202</td>\n",
              "      <td>Região Integrada de Desenvolvimento do Distrit...</td>\n",
              "      <td>RIDE</td>\n",
              "      <td>520201</td>\n",
              "      <td>NÃO TEM</td>\n",
              "      <td>5200175</td>\n",
              "      <td>ÁGUA FRIA DE GOIÁS</td>\n",
              "      <td>DECRETO Nº 7469 - 04.05.2011 Regulamenta a Lei...</td>\n",
              "      <td>1998-02-19</td>\n",
              "    </tr>\n",
              "    <tr>\n",
              "      <th>3</th>\n",
              "      <td>Centro-Oeste</td>\n",
              "      <td>52</td>\n",
              "      <td>GO</td>\n",
              "      <td>5202</td>\n",
              "      <td>Região Integrada de Desenvolvimento do Distrit...</td>\n",
              "      <td>RIDE</td>\n",
              "      <td>520201</td>\n",
              "      <td>NÃO TEM</td>\n",
              "      <td>5200258</td>\n",
              "      <td>ÁGUAS LINDAS DE GOIÁS</td>\n",
              "      <td>DECRETO Nº 7469 - 04.05.2011 Regulamenta a Lei...</td>\n",
              "      <td>1998-02-19</td>\n",
              "    </tr>\n",
              "    <tr>\n",
              "      <th>4</th>\n",
              "      <td>Centro-Oeste</td>\n",
              "      <td>52</td>\n",
              "      <td>GO</td>\n",
              "      <td>5202</td>\n",
              "      <td>Região Integrada de Desenvolvimento do Distrit...</td>\n",
              "      <td>RIDE</td>\n",
              "      <td>520201</td>\n",
              "      <td>NÃO TEM</td>\n",
              "      <td>5200308</td>\n",
              "      <td>ALEXÂNIA</td>\n",
              "      <td>DECRETO Nº 7469 - 04.05.2011 Regulamenta a Lei...</td>\n",
              "      <td>1998-02-19</td>\n",
              "    </tr>\n",
              "  </tbody>\n",
              "</table>\n",
              "</div>\n",
              "    <div class=\"colab-df-buttons\">\n",
              "\n",
              "  <div class=\"colab-df-container\">\n",
              "    <button class=\"colab-df-convert\" onclick=\"convertToInteractive('df-93cbe13c-c830-45b3-84b2-7a94294cf0b0')\"\n",
              "            title=\"Convert this dataframe to an interactive table.\"\n",
              "            style=\"display:none;\">\n",
              "\n",
              "  <svg xmlns=\"http://www.w3.org/2000/svg\" height=\"24px\" viewBox=\"0 -960 960 960\">\n",
              "    <path d=\"M120-120v-720h720v720H120Zm60-500h600v-160H180v160Zm220 220h160v-160H400v160Zm0 220h160v-160H400v160ZM180-400h160v-160H180v160Zm440 0h160v-160H620v160ZM180-180h160v-160H180v160Zm440 0h160v-160H620v160Z\"/>\n",
              "  </svg>\n",
              "    </button>\n",
              "\n",
              "  <style>\n",
              "    .colab-df-container {\n",
              "      display:flex;\n",
              "      gap: 12px;\n",
              "    }\n",
              "\n",
              "    .colab-df-convert {\n",
              "      background-color: #E8F0FE;\n",
              "      border: none;\n",
              "      border-radius: 50%;\n",
              "      cursor: pointer;\n",
              "      display: none;\n",
              "      fill: #1967D2;\n",
              "      height: 32px;\n",
              "      padding: 0 0 0 0;\n",
              "      width: 32px;\n",
              "    }\n",
              "\n",
              "    .colab-df-convert:hover {\n",
              "      background-color: #E2EBFA;\n",
              "      box-shadow: 0px 1px 2px rgba(60, 64, 67, 0.3), 0px 1px 3px 1px rgba(60, 64, 67, 0.15);\n",
              "      fill: #174EA6;\n",
              "    }\n",
              "\n",
              "    .colab-df-buttons div {\n",
              "      margin-bottom: 4px;\n",
              "    }\n",
              "\n",
              "    [theme=dark] .colab-df-convert {\n",
              "      background-color: #3B4455;\n",
              "      fill: #D2E3FC;\n",
              "    }\n",
              "\n",
              "    [theme=dark] .colab-df-convert:hover {\n",
              "      background-color: #434B5C;\n",
              "      box-shadow: 0px 1px 3px 1px rgba(0, 0, 0, 0.15);\n",
              "      filter: drop-shadow(0px 1px 2px rgba(0, 0, 0, 0.3));\n",
              "      fill: #FFFFFF;\n",
              "    }\n",
              "  </style>\n",
              "\n",
              "    <script>\n",
              "      const buttonEl =\n",
              "        document.querySelector('#df-93cbe13c-c830-45b3-84b2-7a94294cf0b0 button.colab-df-convert');\n",
              "      buttonEl.style.display =\n",
              "        google.colab.kernel.accessAllowed ? 'block' : 'none';\n",
              "\n",
              "      async function convertToInteractive(key) {\n",
              "        const element = document.querySelector('#df-93cbe13c-c830-45b3-84b2-7a94294cf0b0');\n",
              "        const dataTable =\n",
              "          await google.colab.kernel.invokeFunction('convertToInteractive',\n",
              "                                                    [key], {});\n",
              "        if (!dataTable) return;\n",
              "\n",
              "        const docLinkHtml = 'Like what you see? Visit the ' +\n",
              "          '<a target=\"_blank\" href=https://colab.research.google.com/notebooks/data_table.ipynb>data table notebook</a>'\n",
              "          + ' to learn more about interactive tables.';\n",
              "        element.innerHTML = '';\n",
              "        dataTable['output_type'] = 'display_data';\n",
              "        await google.colab.output.renderOutput(dataTable, element);\n",
              "        const docLink = document.createElement('div');\n",
              "        docLink.innerHTML = docLinkHtml;\n",
              "        element.appendChild(docLink);\n",
              "      }\n",
              "    </script>\n",
              "  </div>\n",
              "\n",
              "\n",
              "<div id=\"df-4a87dd2f-ea35-4691-abe1-48310525ccf3\">\n",
              "  <button class=\"colab-df-quickchart\" onclick=\"quickchart('df-4a87dd2f-ea35-4691-abe1-48310525ccf3')\"\n",
              "            title=\"Suggest charts\"\n",
              "            style=\"display:none;\">\n",
              "\n",
              "<svg xmlns=\"http://www.w3.org/2000/svg\" height=\"24px\"viewBox=\"0 0 24 24\"\n",
              "     width=\"24px\">\n",
              "    <g>\n",
              "        <path d=\"M19 3H5c-1.1 0-2 .9-2 2v14c0 1.1.9 2 2 2h14c1.1 0 2-.9 2-2V5c0-1.1-.9-2-2-2zM9 17H7v-7h2v7zm4 0h-2V7h2v10zm4 0h-2v-4h2v4z\"/>\n",
              "    </g>\n",
              "</svg>\n",
              "  </button>\n",
              "\n",
              "<style>\n",
              "  .colab-df-quickchart {\n",
              "      --bg-color: #E8F0FE;\n",
              "      --fill-color: #1967D2;\n",
              "      --hover-bg-color: #E2EBFA;\n",
              "      --hover-fill-color: #174EA6;\n",
              "      --disabled-fill-color: #AAA;\n",
              "      --disabled-bg-color: #DDD;\n",
              "  }\n",
              "\n",
              "  [theme=dark] .colab-df-quickchart {\n",
              "      --bg-color: #3B4455;\n",
              "      --fill-color: #D2E3FC;\n",
              "      --hover-bg-color: #434B5C;\n",
              "      --hover-fill-color: #FFFFFF;\n",
              "      --disabled-bg-color: #3B4455;\n",
              "      --disabled-fill-color: #666;\n",
              "  }\n",
              "\n",
              "  .colab-df-quickchart {\n",
              "    background-color: var(--bg-color);\n",
              "    border: none;\n",
              "    border-radius: 50%;\n",
              "    cursor: pointer;\n",
              "    display: none;\n",
              "    fill: var(--fill-color);\n",
              "    height: 32px;\n",
              "    padding: 0;\n",
              "    width: 32px;\n",
              "  }\n",
              "\n",
              "  .colab-df-quickchart:hover {\n",
              "    background-color: var(--hover-bg-color);\n",
              "    box-shadow: 0 1px 2px rgba(60, 64, 67, 0.3), 0 1px 3px 1px rgba(60, 64, 67, 0.15);\n",
              "    fill: var(--button-hover-fill-color);\n",
              "  }\n",
              "\n",
              "  .colab-df-quickchart-complete:disabled,\n",
              "  .colab-df-quickchart-complete:disabled:hover {\n",
              "    background-color: var(--disabled-bg-color);\n",
              "    fill: var(--disabled-fill-color);\n",
              "    box-shadow: none;\n",
              "  }\n",
              "\n",
              "  .colab-df-spinner {\n",
              "    border: 2px solid var(--fill-color);\n",
              "    border-color: transparent;\n",
              "    border-bottom-color: var(--fill-color);\n",
              "    animation:\n",
              "      spin 1s steps(1) infinite;\n",
              "  }\n",
              "\n",
              "  @keyframes spin {\n",
              "    0% {\n",
              "      border-color: transparent;\n",
              "      border-bottom-color: var(--fill-color);\n",
              "      border-left-color: var(--fill-color);\n",
              "    }\n",
              "    20% {\n",
              "      border-color: transparent;\n",
              "      border-left-color: var(--fill-color);\n",
              "      border-top-color: var(--fill-color);\n",
              "    }\n",
              "    30% {\n",
              "      border-color: transparent;\n",
              "      border-left-color: var(--fill-color);\n",
              "      border-top-color: var(--fill-color);\n",
              "      border-right-color: var(--fill-color);\n",
              "    }\n",
              "    40% {\n",
              "      border-color: transparent;\n",
              "      border-right-color: var(--fill-color);\n",
              "      border-top-color: var(--fill-color);\n",
              "    }\n",
              "    60% {\n",
              "      border-color: transparent;\n",
              "      border-right-color: var(--fill-color);\n",
              "    }\n",
              "    80% {\n",
              "      border-color: transparent;\n",
              "      border-right-color: var(--fill-color);\n",
              "      border-bottom-color: var(--fill-color);\n",
              "    }\n",
              "    90% {\n",
              "      border-color: transparent;\n",
              "      border-bottom-color: var(--fill-color);\n",
              "    }\n",
              "  }\n",
              "</style>\n",
              "\n",
              "  <script>\n",
              "    async function quickchart(key) {\n",
              "      const quickchartButtonEl =\n",
              "        document.querySelector('#' + key + ' button');\n",
              "      quickchartButtonEl.disabled = true;  // To prevent multiple clicks.\n",
              "      quickchartButtonEl.classList.add('colab-df-spinner');\n",
              "      try {\n",
              "        const charts = await google.colab.kernel.invokeFunction(\n",
              "            'suggestCharts', [key], {});\n",
              "      } catch (error) {\n",
              "        console.error('Error during call to suggestCharts:', error);\n",
              "      }\n",
              "      quickchartButtonEl.classList.remove('colab-df-spinner');\n",
              "      quickchartButtonEl.classList.add('colab-df-quickchart-complete');\n",
              "    }\n",
              "    (() => {\n",
              "      let quickchartButtonEl =\n",
              "        document.querySelector('#df-4a87dd2f-ea35-4691-abe1-48310525ccf3 button');\n",
              "      quickchartButtonEl.style.display =\n",
              "        google.colab.kernel.accessAllowed ? 'block' : 'none';\n",
              "    })();\n",
              "  </script>\n",
              "</div>\n",
              "\n",
              "    </div>\n",
              "  </div>\n"
            ],
            "application/vnd.google.colaboratory.intrinsic+json": {
              "type": "dataframe",
              "variable_name": "dataset",
              "summary": "{\n  \"name\": \"dataset\",\n  \"rows\": 1420,\n  \"fields\": [\n    {\n      \"column\": \"GRANDE_REG\",\n      \"properties\": {\n        \"dtype\": \"category\",\n        \"num_unique_values\": 5,\n        \"samples\": [\n          \"Nordeste\",\n          \"Sul\",\n          \"Norte\"\n        ],\n        \"semantic_type\": \"\",\n        \"description\": \"\"\n      }\n    },\n    {\n      \"column\": \"COD_UF\",\n      \"properties\": {\n        \"dtype\": \"number\",\n        \"std\": 8,\n        \"min\": 11,\n        \"max\": 53,\n        \"num_unique_values\": 25,\n        \"samples\": [\n          26,\n          14,\n          53\n        ],\n        \"semantic_type\": \"\",\n        \"description\": \"\"\n      }\n    },\n    {\n      \"column\": \"SIGLA_UF\",\n      \"properties\": {\n        \"dtype\": \"category\",\n        \"num_unique_values\": 25,\n        \"samples\": [\n          \"PE\",\n          \"RR\",\n          \"DF\"\n        ],\n        \"semantic_type\": \"\",\n        \"description\": \"\"\n      }\n    },\n    {\n      \"column\": \"COD\",\n      \"properties\": {\n        \"dtype\": \"number\",\n        \"std\": 891,\n        \"min\": 1101,\n        \"max\": 5301,\n        \"num_unique_values\": 86,\n        \"samples\": [\n          4206,\n          5301,\n          4104\n        ],\n        \"semantic_type\": \"\",\n        \"description\": \"\"\n      }\n    },\n    {\n      \"column\": \"NOME\",\n      \"properties\": {\n        \"dtype\": \"category\",\n        \"num_unique_values\": 82,\n        \"samples\": [\n          \"Regi\\u00e3o Metropolitana de Sousa\",\n          \"Regi\\u00e3o Integrada de Desenvolvimento do Distrito Federal e Entorno\",\n          \"Regi\\u00e3o Metropolitana de Barra de Santa Rosa\"\n        ],\n        \"semantic_type\": \"\",\n        \"description\": \"\"\n      }\n    },\n    {\n      \"column\": \"TIPO\",\n      \"properties\": {\n        \"dtype\": \"category\",\n        \"num_unique_values\": 3,\n        \"samples\": [\n          \"RIDE\",\n          \"RM\",\n          \"AGLO\"\n        ],\n        \"semantic_type\": \"\",\n        \"description\": \"\"\n      }\n    },\n    {\n      \"column\": \"COD_CAT_ASSOC\",\n      \"properties\": {\n        \"dtype\": \"category\",\n        \"num_unique_values\": 114,\n        \"samples\": [\n          350505,\n          510101,\n          280101\n        ],\n        \"semantic_type\": \"\",\n        \"description\": \"\"\n      }\n    },\n    {\n      \"column\": \"CAT_ASSOC\",\n      \"properties\": {\n        \"dtype\": \"category\",\n        \"num_unique_values\": 20,\n        \"samples\": [\n          \"N\\u00c3O TEM\",\n          \"Todas as sub-regi\\u00f5es\",\n          \"Sub-regi\\u00e3o Sudeste\"\n        ],\n        \"semantic_type\": \"\",\n        \"description\": \"\"\n      }\n    },\n    {\n      \"column\": \"COD_MUN\",\n      \"properties\": {\n        \"dtype\": \"number\",\n        \"std\": 892092,\n        \"min\": 1100205,\n        \"max\": 5300108,\n        \"num_unique_values\": 1418,\n        \"samples\": [\n          5101605,\n          1100809,\n          3545209\n        ],\n        \"semantic_type\": \"\",\n        \"description\": \"\"\n      }\n    },\n    {\n      \"column\": \"NOME_MUN\",\n      \"properties\": {\n        \"dtype\": \"string\",\n        \"num_unique_values\": 1383,\n        \"samples\": [\n          \"S\\u00c3O JORGE DO IVA\\u00cd\",\n          \"S\\u00c3O LU\\u00cdS\",\n          \"S\\u00c3O GON\\u00c7ALO DOS CAMPOS\"\n        ],\n        \"semantic_type\": \"\",\n        \"description\": \"\"\n      }\n    },\n    {\n      \"column\": \"LEG\",\n      \"properties\": {\n        \"dtype\": \"category\",\n        \"num_unique_values\": 147,\n        \"samples\": [\n          \"Inclus\\u00e3o de  munic\\u00edpio - Lei Complementar 11.876\",\n          \"Lei Complementar  109\",\n          \"Lei Complementar 11340\"\n        ],\n        \"semantic_type\": \"\",\n        \"description\": \"\"\n      }\n    },\n    {\n      \"column\": \"DATA\",\n      \"properties\": {\n        \"dtype\": \"date\",\n        \"min\": \"1973-06-08 00:00:00\",\n        \"max\": \"2019-07-24 00:00:00\",\n        \"num_unique_values\": 144,\n        \"samples\": [\n          \"2013-10-15 00:00:00\",\n          \"2001-09-19 00:00:00\",\n          \"1993-01-01 00:00:00\"\n        ],\n        \"semantic_type\": \"\",\n        \"description\": \"\"\n      }\n    }\n  ]\n}"
            }
          },
          "metadata": {},
          "execution_count": 95
        }
      ]
    },
    {
      "cell_type": "code",
      "source": [
        "df = dataset.dropna()\n",
        "X = df.drop(columns=['SIGLA_UF','NOME','NOME_MUN','LEG','DATA'])\n",
        "print(X)"
      ],
      "metadata": {
        "colab": {
          "base_uri": "https://localhost:8080/",
          "height": 0
        },
        "id": "66AWddclDcnL",
        "outputId": "96b20617-c9f5-4840-d82a-e7abf2657e69"
      },
      "execution_count": 96,
      "outputs": [
        {
          "output_type": "stream",
          "name": "stdout",
          "text": [
            "        GRANDE_REG  COD_UF   COD  TIPO COD_CAT_ASSOC             CAT_ASSOC  \\\n",
            "0     Centro-Oeste      53  5301  RIDE        530101               NÃO TEM   \n",
            "1     Centro-Oeste      52  5202  RIDE        520201               NÃO TEM   \n",
            "2     Centro-Oeste      52  5202  RIDE        520201               NÃO TEM   \n",
            "3     Centro-Oeste      52  5202  RIDE        520201               NÃO TEM   \n",
            "4     Centro-Oeste      52  5202  RIDE        520201               NÃO TEM   \n",
            "...            ...     ...   ...   ...           ...                   ...   \n",
            "1415           Sul      42  4202    RM        420201  Núcleo Metropolitano   \n",
            "1416           Sul      42  4202    RM        420201  Núcleo Metropolitano   \n",
            "1417           Sul      42  4202    RM        420201  Núcleo Metropolitano   \n",
            "1418           Sul      42  4202    RM        420201  Núcleo Metropolitano   \n",
            "1419           Sul      42  4202    RM        420201  Núcleo Metropolitano   \n",
            "\n",
            "      COD_MUN  \n",
            "0     5300108  \n",
            "1     5200100  \n",
            "2     5200175  \n",
            "3     5200258  \n",
            "4     5200308  \n",
            "...       ...  \n",
            "1415  4202404  \n",
            "1416  4205902  \n",
            "1417  4207502  \n",
            "1418  4213203  \n",
            "1419  4218202  \n",
            "\n",
            "[1420 rows x 7 columns]\n"
          ]
        }
      ]
    },
    {
      "cell_type": "code",
      "source": [
        "for x in X.columns:\n",
        "  print(f\"{x}: {X[x].nunique()}\")\n",
        "  print(\"----------\")"
      ],
      "metadata": {
        "colab": {
          "base_uri": "https://localhost:8080/",
          "height": 0
        },
        "id": "JYp3b-WyEG_S",
        "outputId": "1d9063b0-5ce6-48c0-8057-714153d8e3ef"
      },
      "execution_count": 98,
      "outputs": [
        {
          "output_type": "stream",
          "name": "stdout",
          "text": [
            "GRANDE_REG: 5\n",
            "----------\n",
            "COD_UF: 25\n",
            "----------\n",
            "COD: 86\n",
            "----------\n",
            "TIPO: 3\n",
            "----------\n",
            "COD_CAT_ASSOC: 114\n",
            "----------\n",
            "CAT_ASSOC: 20\n",
            "----------\n",
            "COD_MUN: 1418\n",
            "----------\n"
          ]
        }
      ]
    },
    {
      "cell_type": "code",
      "source": [
        "print(X)"
      ],
      "metadata": {
        "colab": {
          "base_uri": "https://localhost:8080/",
          "height": 0
        },
        "id": "5JwWLFWtQt0g",
        "outputId": "9a714472-8133-4c5c-ffcd-9f35ab65bd5a"
      },
      "execution_count": 100,
      "outputs": [
        {
          "output_type": "stream",
          "name": "stdout",
          "text": [
            "        GRANDE_REG  COD_UF   COD  TIPO COD_CAT_ASSOC             CAT_ASSOC  \\\n",
            "0     Centro-Oeste      53  5301  RIDE        530101               NÃO TEM   \n",
            "1     Centro-Oeste      52  5202  RIDE        520201               NÃO TEM   \n",
            "2     Centro-Oeste      52  5202  RIDE        520201               NÃO TEM   \n",
            "3     Centro-Oeste      52  5202  RIDE        520201               NÃO TEM   \n",
            "4     Centro-Oeste      52  5202  RIDE        520201               NÃO TEM   \n",
            "...            ...     ...   ...   ...           ...                   ...   \n",
            "1415           Sul      42  4202    RM        420201  Núcleo Metropolitano   \n",
            "1416           Sul      42  4202    RM        420201  Núcleo Metropolitano   \n",
            "1417           Sul      42  4202    RM        420201  Núcleo Metropolitano   \n",
            "1418           Sul      42  4202    RM        420201  Núcleo Metropolitano   \n",
            "1419           Sul      42  4202    RM        420201  Núcleo Metropolitano   \n",
            "\n",
            "      COD_MUN  \n",
            "0     5300108  \n",
            "1     5200100  \n",
            "2     5200175  \n",
            "3     5200258  \n",
            "4     5200308  \n",
            "...       ...  \n",
            "1415  4202404  \n",
            "1416  4205902  \n",
            "1417  4207502  \n",
            "1418  4213203  \n",
            "1419  4218202  \n",
            "\n",
            "[1420 rows x 7 columns]\n"
          ]
        }
      ]
    },
    {
      "cell_type": "code",
      "source": [
        "X_encoded = pd.get_dummies(X)\n",
        "X_train, X_test = train_test_split(X_encoded, test_size=0.2, random_state=42)"
      ],
      "metadata": {
        "id": "XdXR9vFzTBlz"
      },
      "execution_count": 115,
      "outputs": []
    },
    {
      "cell_type": "code",
      "source": [
        "X_centered = X_train - X_train.mean(axis=0)\n",
        "U, s, Vt = np.linalg.svd(X_centered)\n",
        "c1 = Vt.T[:,0]\n",
        "c2 = Vt.T[:,1]"
      ],
      "metadata": {
        "id": "nDXyJcKnUEcj"
      },
      "execution_count": 116,
      "outputs": []
    },
    {
      "cell_type": "code",
      "source": [
        "W2 = Vt.T[:,:2]\n",
        "X2D = X_centered.dot(W2)"
      ],
      "metadata": {
        "id": "Jdz0uucOUd-y"
      },
      "execution_count": 117,
      "outputs": []
    },
    {
      "cell_type": "code",
      "source": [
        "from sklearn.decomposition import PCA\n",
        "pca = PCA(n_components=5)\n",
        "X2D = pca.fit_transform(X_train)"
      ],
      "metadata": {
        "id": "DjABZF7yUpaN"
      },
      "execution_count": 118,
      "outputs": []
    },
    {
      "cell_type": "code",
      "source": [
        "pca.score(X_test)"
      ],
      "metadata": {
        "colab": {
          "base_uri": "https://localhost:8080/",
          "height": 0
        },
        "id": "pAJWu5GmWdZy",
        "outputId": "ba17f5df-f93e-4818-d120-688d42a4b62b"
      },
      "execution_count": 119,
      "outputs": [
        {
          "output_type": "execute_result",
          "data": {
            "text/plain": [
              "104.45477841422468"
            ]
          },
          "metadata": {},
          "execution_count": 119
        }
      ]
    },
    {
      "cell_type": "code",
      "source": [
        "kpca = KernelPCA(kernel='rbf', fit_inverse_transform=True, gamma=10)\n",
        "kpca = kpca.fit_transform(X_train)"
      ],
      "metadata": {
        "id": "Jn2M1-FWXoAD"
      },
      "execution_count": 121,
      "outputs": []
    },
    {
      "cell_type": "code",
      "source": [],
      "metadata": {
        "id": "N6AUYS5EZaHO"
      },
      "execution_count": null,
      "outputs": []
    }
  ]
}